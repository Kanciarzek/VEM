{
 "cells": [
  {
   "cell_type": "code",
   "execution_count": 1,
   "metadata": {
    "pycharm": {
     "name": "#%%\n"
    }
   },
   "outputs": [],
   "source": [
    "import matplotlib.pyplot as plt\n",
    "import numpy as np"
   ]
  },
  {
   "cell_type": "code",
   "execution_count": 2,
   "metadata": {
    "pycharm": {
     "name": "#%%\n"
    }
   },
   "outputs": [],
   "source": [
    "mi = 30\n",
    "lambda_ = 20\n",
    "\n",
    "size_y = 4\n",
    "size_x = 20\n",
    "\n",
    "bounding_box = np.array([0, 5, 0, 1])"
   ]
  },
  {
   "cell_type": "code",
   "execution_count": 9,
   "outputs": [],
   "source": [
    "def f1(x, y):\n",
    "    x = np.array(x)\n",
    "    y = np.array(y)\n",
    "    result = np.zeros_like(x)\n",
    "    cond = (1 <= x) & (x <= 4) & (1 / 4 <= y) & (y <= 3 / 4)\n",
    "    result[cond] = 0\n",
    "    return result\n",
    "\n",
    "\n",
    "def f2(x, y):\n",
    "    x = np.array(x)\n",
    "    y = np.array(y)\n",
    "    result = np.zeros_like(x)\n",
    "    cond = (1 <= x) & (x <= 4) & (1 / 4 <= y) & (y <= 3 / 4)\n",
    "    result[cond] = -1\n",
    "    return result"
   ],
   "metadata": {
    "collapsed": false,
    "pycharm": {
     "name": "#%%\n"
    }
   }
  },
  {
   "cell_type": "code",
   "execution_count": 10,
   "outputs": [],
   "source": [
    "x = np.linspace(bounding_box[0], bounding_box[1], size_x + 1)\n",
    "y = np.linspace(bounding_box[2], bounding_box[3], size_y + 1)\n",
    "vertices = np.transpose([np.tile(x, len(y)), np.repeat(y, len(x))])"
   ],
   "metadata": {
    "collapsed": false,
    "pycharm": {
     "name": "#%%\n"
    }
   }
  },
  {
   "cell_type": "code",
   "execution_count": 11,
   "outputs": [],
   "source": [
    "boundary = np.where((vertices[:, 0] == bounding_box[0]) | (vertices[:, 0] == bounding_box[1]))[0]\n",
    "elements = np.array(\n",
    "    [np.array([i, i + 1, i + 2 + size_x, i + 1 + size_x]) + (j * (size_x + 1)) for j in range(size_y) for i in\n",
    "     range(size_x)])"
   ],
   "metadata": {
    "collapsed": false,
    "pycharm": {
     "name": "#%%\n"
    }
   }
  },
  {
   "cell_type": "code",
   "execution_count": 12,
   "outputs": [
    {
     "data": {
      "text/plain": "<Figure size 640x480 with 1 Axes>",
      "image/png": "[encoded data removed]"
     },
     "metadata": {},
     "output_type": "display_data"
    }
   ],
   "source": [
    "fig = plt.figure()\n",
    "for element in elements:\n",
    "    x = [vertices[x][0] for x in element]\n",
    "    x.append(x[0])\n",
    "    y = [vertices[x][1] for x in element]\n",
    "    y.append(y[0])\n",
    "    plt.plot(x, y, c=\"black\", linewidth=0.7)\n",
    "plt.axis('off')\n",
    "# plt.savefig('mesh.png')\n",
    "plt.show()"
   ],
   "metadata": {
    "collapsed": false,
    "pycharm": {
     "name": "#%%\n"
    }
   }
  },
  {
   "cell_type": "code",
   "execution_count": 13,
   "metadata": {
    "pycharm": {
     "name": "#%%\n"
    }
   },
   "outputs": [],
   "source": [
    "A = np.zeros((len(vertices) * 2, len(vertices) * 2))\n",
    "F = np.zeros(len(vertices) * 2)\n",
    "u = np.zeros(len(vertices) * 2)\n",
    "\n",
    "for element in elements:\n",
    "    local_vertices = vertices[element]\n",
    "    x = local_vertices[:, 0]\n",
    "    y = local_vertices[:, 1]\n",
    "    n_of_sides = len(element)\n",
    "    range_plus_one = np.array([*range(1, n_of_sides), 0])\n",
    "    area_part = np.array([x[i] * y[j] - x[j] * y[i] for i, j in zip(range(n_of_sides), range_plus_one)])\n",
    "    area = np.abs(1 / 2 * np.sum(area_part))\n",
    "    centroid = 1 / (6 * area) * np.sum([(d + d[range_plus_one]) * area_part for d in [x, y]], axis=1)\n",
    "\n",
    "    B_snake_x = np.zeros((6, n_of_sides))\n",
    "    B_snake_y = np.zeros((6, n_of_sides))\n",
    "\n",
    "    Mxx = np.ones((n_of_sides, n_of_sides)) / (4 * area)\n",
    "    Myx = np.ones((n_of_sides, n_of_sides)) / (4 * area)\n",
    "    Myy = np.ones((n_of_sides, n_of_sides)) / (4 * area)\n",
    "\n",
    "    B_snake_x[0, :] = 1\n",
    "    B_snake_x[1, :] = 0\n",
    "    B_snake_y[0, :] = 0\n",
    "    B_snake_y[1, :] = 1\n",
    "    vertex_hat_normals = []\n",
    "    vertex_hat_lengths = []\n",
    "    for vertex_id in range(n_of_sides):\n",
    "        vert = local_vertices[vertex_id]\n",
    "        previous = local_vertices[vertex_id - 1]\n",
    "        next = local_vertices[(vertex_id + 1) % n_of_sides]\n",
    "        vertex_hat_normal = np.array([next[1] - previous[1], previous[0] - next[0]])\n",
    "        vertex_hat_normals.append(vertex_hat_normal)\n",
    "        length = np.linalg.norm(next - previous)\n",
    "        vertex_hat_lengths.append(length)\n",
    "        B_snake_x[2, vertex_id] = -vert[1]\n",
    "        B_snake_x[3, vertex_id] = vertex_hat_normal[1] * length * mi\n",
    "        B_snake_x[4, vertex_id] = vertex_hat_normal[0] * length * mi\n",
    "        B_snake_x[5, vertex_id] = vertex_hat_normal[0] * length * (mi + lambda_)\n",
    "        B_snake_y[2, vertex_id] = vert[0]\n",
    "        B_snake_y[3, vertex_id] = vertex_hat_normal[0] * length * mi\n",
    "        B_snake_y[4, vertex_id] = -vertex_hat_normal[1] * length * mi\n",
    "        B_snake_y[5, vertex_id] = vertex_hat_normal[1] * length * (mi + lambda_)\n",
    "\n",
    "    # for j in range(n_of_sides):\n",
    "    #     Mxx[:, j] *= vertex_hat_lengths[j] * vertex_hat_normals[j][0]\n",
    "    #     Myx[:, j] *= vertex_hat_lengths[j] * vertex_hat_normals[j][0]\n",
    "    #     Myy[:, j] *= vertex_hat_lengths[j] * vertex_hat_normals[j][1]\n",
    "\n",
    "    G = np.zeros((6, 6))\n",
    "    G[3,3] = 4 * mi * area\n",
    "    G[4,4] = 4 * mi * area\n",
    "    G[5,5] = 4 * (mi + lambda_) * area\n",
    "    G_snake = G.copy()\n",
    "    Sx = np.sum(local_vertices[:, 0])\n",
    "    Sy = np.sum(local_vertices[:, 1])\n",
    "    Sx2 = np.sum(local_vertices[:, 0] ** 2)\n",
    "    Sy2 = np.sum(local_vertices[:, 1] ** 2)\n",
    "    Sxy = np.sum(local_vertices[:, 0] * local_vertices[:, 1])\n",
    "    G_snake[0, :] = np.array(\n",
    "        [n_of_sides, 0, -Sy + n_of_sides * centroid[1], Sy - n_of_sides * centroid[1], Sx - n_of_sides * centroid[0],\n",
    "         Sx - n_of_sides * centroid[0]])\n",
    "    G_snake[1, :] = np.array(\n",
    "        [0, n_of_sides, Sx - n_of_sides * centroid[0], Sx - n_of_sides * centroid[0], -Sy + n_of_sides * centroid[1],\n",
    "         Sy - n_of_sides * centroid[1]])\n",
    "    G_snake[2, :] = np.array(\n",
    "        [-Sy, Sx, Sx2 + Sy2 - Sx * centroid[0] - Sy * centroid[1], Sx2 - Sy2 - Sx * centroid[0] + Sy * centroid[1],\n",
    "         -2 * Sxy + Sx * centroid[1] + Sy * centroid[0], - Sx * centroid[1] + Sy * centroid[0]])\n",
    "    projector_x = np.linalg.solve(G_snake, B_snake_x)\n",
    "    projector_y = np.linalg.solve(G_snake, B_snake_y)\n",
    "\n",
    "    D = np.zeros((2 * n_of_sides, 6))\n",
    "    for i in range(n_of_sides):\n",
    "        x = local_vertices[i, 0]\n",
    "        y = local_vertices[i, 1]\n",
    "        D[i] = np.array([1, 0, -y + centroid[1], y - centroid[1], x - centroid[0], x - centroid[0]])\n",
    "        D[i + n_of_sides] = np.array([0, 1, x - centroid[0], x - centroid[0], -y + centroid[1], y - centroid[1]])\n",
    "\n",
    "    Al_x = np.zeros((2 * n_of_sides, n_of_sides))\n",
    "    Al_y = np.zeros((2 * n_of_sides, n_of_sides))\n",
    "\n",
    "    Al_x[:n_of_sides] = np.eye(n_of_sides)\n",
    "    Al_y[n_of_sides:] = np.eye(n_of_sides)\n",
    "    part_x = Al_x - (D @ projector_x)\n",
    "    part_y = Al_y - (D @ projector_y)\n",
    "\n",
    "    stabilizing_term_xx = part_x.T @ part_x\n",
    "    stabilizing_term_yx = part_x.T @ part_y\n",
    "    stabilizing_term_yy = part_y.T @ part_y\n",
    "\n",
    "    local_stiffness_mi_xx = ((projector_x.T @ G) @ projector_x)\n",
    "    local_stiffness_mi_yx = ((projector_x.T @ G) @ projector_y)\n",
    "    local_stiffness_mi_yy = ((projector_y.T @ G) @ projector_y)\n",
    "\n",
    "    A[np.ix_(element, element)] += local_stiffness_mi_xx + (2*mi + lambda_)* stabilizing_term_xx\n",
    "    A[np.ix_(element + len(vertices),\n",
    "             element + len(vertices))] += local_stiffness_mi_yy + (2 * mi + lambda_) * stabilizing_term_yy\n",
    "    A[np.ix_(element, element + len(vertices))] += local_stiffness_mi_yx + (2 * mi + lambda_) * stabilizing_term_yx\n",
    "\n",
    "    F[element] += f1(centroid[0], centroid[1]) * area / n_of_sides\n",
    "    F[element + len(vertices)] += f2(centroid[0], centroid[1]) * area / n_of_sides\n",
    "A[len(vertices):,:len(vertices)] = A[:len(vertices),len(vertices):].T\n",
    "internal_vertices = np.tile(~np.isin(np.arange(len(vertices)), boundary),2)\n",
    "\n",
    "# u[internal_vertices] = np.linalg.solve(A[np.ix_(internal_vertices, internal_vertices)], F[internal_vertices] - A[\n",
    "#     np.ix_(np.where(internal_vertices)[0], np.where(~internal_vertices)[0])] @ np.zeros(len(boundary)*2))\n",
    "u[internal_vertices] = np.linalg.solve(A[np.ix_(internal_vertices, internal_vertices)], F[internal_vertices])\n",
    "u[~internal_vertices] = 0"
   ]
  },
  {
   "cell_type": "code",
   "execution_count": 22,
   "outputs": [
    {
     "name": "stdout",
     "output_type": "stream",
     "text": [
      "Optimization terminated successfully.\n",
      "         Current function value: -0.134635\n",
      "         Iterations: 120\n",
      "         Function evaluations: 27504\n",
      "         Gradient evaluations: 144\n"
     ]
    }
   ],
   "source": [
    "import scipy\n",
    "u2 = np.zeros_like(u)\n",
    "Ai = A[np.ix_(internal_vertices, internal_vertices)]\n",
    "Fi = F[internal_vertices]\n",
    "from autograd import grad\n",
    "def functional(x):\n",
    "    return 1/2*(np.dot(x, np.dot(Ai,x))) - Fi @ x\n",
    "functional_grad = grad(functional)\n",
    "res = scipy.optimize.minimize(functional, np.zeros_like(Fi), method='BFGS', options={\"disp\": True})\n",
    "u2[internal_vertices] = res.x"
   ],
   "metadata": {
    "collapsed": false,
    "pycharm": {
     "name": "#%%\n"
    }
   }
  },
  {
   "cell_type": "code",
   "execution_count": 23,
   "outputs": [
    {
     "name": "stdout",
     "output_type": "stream",
     "text": [
      "[ 3.01179281e+02  2.97402315e+02  2.93974364e+02  2.91688115e+02\n",
      "  2.91207855e+02  2.87917385e+02  2.82745710e+02  2.82725272e+02\n",
      "  2.76205975e+02  2.72224537e+02  2.68488351e+02  2.59913336e+02\n",
      "  2.59742833e+02  2.55719006e+02  2.52227657e+02  2.50191617e+02\n",
      "  2.46472170e+02  2.46151483e+02  2.40244359e+02  2.38435570e+02\n",
      "  2.31420560e+02  2.30111274e+02  2.28358501e+02  2.27916029e+02\n",
      "  2.25976798e+02  2.22622487e+02  2.15523403e+02  2.17355265e+02\n",
      "  2.19188100e+02  2.18630779e+02  2.12440550e+02  2.08005142e+02\n",
      "  2.05440967e+02  2.05216566e+02  2.01793834e+02  2.01505772e+02\n",
      "  1.92261988e+02  1.93602105e+02  1.95851437e+02  1.98707568e+02\n",
      "  1.97485056e+02  1.90066546e+02  1.87785059e+02  1.86593841e+02\n",
      "  1.83296559e+02  1.78000308e+02  1.78251903e+02  1.79558007e+02\n",
      "  1.79058738e+02  1.71512582e+02  1.70229722e+02  1.68045402e+02\n",
      "  1.68296625e+02  1.65497871e+02  1.63720198e+02  1.60877068e+02\n",
      "  1.58248864e+02  1.56972897e+02  1.56275182e+02  1.58078039e+02\n",
      "  3.53124546e+00  3.03876140e+00  1.77452923e+00  7.71346481e-01\n",
      "  6.38305121e-01  1.16686408e-01  1.49459668e+02  1.46932647e+02\n",
      "  1.46169859e+02  1.45059367e+02  1.44683980e+02  1.44420335e+02\n",
      "  5.81998865e+00  6.61521771e+00  7.88191637e+00  1.18788206e+01\n",
      "  9.42991331e+00  9.54639734e+00  1.00076583e+01  9.91127516e+00\n",
      "  7.05231774e-14 -3.44200556e-14  2.80566620e-13  1.41775161e+02\n",
      "  1.37840857e+02  1.35789493e+02  1.35348600e+02  1.31971851e+01\n",
      "  1.31955793e+01  1.59740105e+01  1.58759727e+01  1.34981641e+02\n",
      "  1.32590103e+02  1.32452925e+02  1.27890394e+02  1.27223292e+02\n",
      "  1.63619812e+01  1.68159174e+01  1.77086559e+01  1.71610242e+01\n",
      "  1.72926691e+01  2.41650597e+01  2.26289068e+01  2.17423347e+01\n",
      "  2.06626254e+01  2.01578314e+01  1.23418495e+02  2.57576804e+01\n",
      "  2.69011307e+01  1.21475664e+02  1.20740882e+02  1.21257718e+02\n",
      "  1.19768935e+02  1.17335553e+02  1.13923200e+02  1.14591870e+02\n",
      "  2.73059556e+01  2.75532037e+01  2.99097567e+01  2.98776379e+01\n",
      "  3.39354984e+01  3.19238912e+01  3.26428075e+01  3.26912949e+01\n",
      "  1.12862298e+02  3.51226869e+01  3.47616006e+01  3.73898294e+01\n",
      "  1.11279270e+02  1.11271360e+02  1.08627772e+02  1.10172171e+02\n",
      "  1.09631715e+02  1.09879319e+02  1.07320006e+02  1.06722086e+02\n",
      "  4.15885726e+01  4.05784998e+01  3.91781894e+01  3.89488477e+01\n",
      "  3.90142996e+01  8.91749117e+01  8.86192128e+01  9.30123665e+01\n",
      "  9.24453077e+01  1.04950076e+02  1.00941549e+02  1.00133635e+02\n",
      "  1.05595488e+02  9.85985894e+01  9.84315431e+01  1.02453107e+02\n",
      "  1.03251782e+02  9.48105439e+01  8.69933518e+01  4.45073830e+01\n",
      "  4.47219679e+01  4.49156204e+01  8.56789078e+01  8.44422393e+01\n",
      "  9.51912187e+01  4.57198670e+01  1.03094654e+02  4.83613978e+01\n",
      "  4.88535068e+01  4.99983404e+01  4.92694291e+01  4.93889037e+01\n",
      "  9.51835524e+01  8.28147364e+01  8.26166893e+01  8.02377895e+01\n",
      "  8.09369102e+01  5.14331996e+01  5.20275396e+01  7.29311131e+01\n",
      "  7.56658323e+01  7.73373258e+01  7.67254408e+01  6.47597448e+01\n",
      "  6.54096580e+01  6.68687974e+01  6.84891763e+01  7.03280976e+01\n",
      "  7.19733565e+01  7.25330977e+01  6.96076187e+01  5.40952656e+01\n",
      "  5.65479569e+01  6.25963166e+01  7.11594233e+01  7.58349988e+01\n",
      "  7.77158452e+01  7.75819287e+01  5.47193067e+01  5.55857938e+01\n",
      "  5.75636329e+01  6.13029331e+01  6.35294042e+01  6.91393961e+01\n",
      "  5.48924977e+01  6.33632999e+01  6.09524455e+01  5.84498673e+01\n",
      "  5.95881837e+01  6.04608011e+01  5.90813334e+01  5.92946525e+01\n",
      "  5.40353149e+01  5.81080182e+01]\n"
     ]
    }
   ],
   "source": [
    "print(np.linalg.eigvals(A))"
   ],
   "metadata": {
    "collapsed": false,
    "pycharm": {
     "name": "#%%\n"
    }
   }
  },
  {
   "cell_type": "code",
   "execution_count": 21,
   "metadata": {
    "pycharm": {
     "name": "#%%\n"
    }
   },
   "outputs": [
    {
     "data": {
      "text/plain": "<matplotlib.collections.PathCollection at 0x2475510b940>"
     },
     "execution_count": 21,
     "metadata": {},
     "output_type": "execute_result"
    },
    {
     "data": {
      "text/plain": "<Figure size 1000x200 with 1 Axes>",
      "image/png": "[encoded data removed]"
     },
     "metadata": {},
     "output_type": "display_data"
    }
   ],
   "source": [
    "plt.figure(figsize=(10,2))\n",
    "x = vertices[:,0].copy()\n",
    "y = vertices[:,1].copy()\n",
    "delta_x = u[:len(vertices)].copy()\n",
    "delta_y = u[len(vertices):].copy()\n",
    "c = np.sqrt(delta_x ** 2 + delta_y ** 2)\n",
    "x += delta_x\n",
    "y += delta_y\n",
    "plt.scatter(x,y, marker='.', cmap='viridis', c=c)\n",
    "# plt.savefig('plotVEMNewWith2MIForce100.png')\n"
   ]
  },
  {
   "cell_type": "code",
   "execution_count": 33,
   "outputs": [
    {
     "name": "stdout",
     "output_type": "stream",
     "text": [
      "[[ 2.50000000e-01  2.50000000e-01  2.50000000e-01  2.50000000e-01]\n",
      " [-1.22568142e-12 -1.22568120e-12  1.22568165e-12  1.22568142e-12]\n",
      " [ 5.00000000e+00  5.00000000e+00 -5.00000000e+00 -5.00000000e+00]\n",
      " [-3.53553391e-01 -3.53553391e-01  3.53553391e-01  3.53553391e-01]\n",
      " [-3.53553391e-01  3.53553391e-01  3.53553391e-01 -3.53553391e-01]\n",
      " [-3.53553391e-01  3.53553391e-01  3.53553391e-01 -3.53553391e-01]]\n"
     ]
    }
   ],
   "source": [
    "print(projector_x)\n"
   ],
   "metadata": {
    "collapsed": false,
    "pycharm": {
     "name": "#%%\n"
    }
   }
  },
  {
   "cell_type": "code",
   "execution_count": 51,
   "outputs": [
    {
     "name": "stdout",
     "output_type": "stream",
     "text": [
      "[[ 0.57384199 -0.35794733 -0.07384199 -0.14205267]\n",
      " [-0.35794733  0.57384199 -0.14205267 -0.07384199]\n",
      " [-0.07384199 -0.14205267  0.57384199 -0.35794733]\n",
      " [-0.14205267 -0.07384199 -0.35794733  0.57384199]]\n"
     ]
    }
   ],
   "source": [
    "print(stabilizing_term_xx)\n"
   ],
   "metadata": {
    "collapsed": false,
    "pycharm": {
     "name": "#%%\n"
    }
   }
  },
  {
   "cell_type": "code",
   "execution_count": null,
   "outputs": [],
   "source": [],
   "metadata": {
    "collapsed": false,
    "pycharm": {
     "name": "#%%\n"
    }
   }
  }
 ],
 "metadata": {
  "kernelspec": {
   "display_name": "Python 3",
   "language": "python",
   "name": "python3"
  },
  "language_info": {
   "codemirror_mode": {
    "name": "ipython",
    "version": 3
   },
   "file_extension": ".py",
   "mimetype": "text/x-python",
   "name": "python",
   "nbconvert_exporter": "python",
   "pygments_lexer": "ipython3",
   "version": "3.7.5"
  }
 },
 "nbformat": 4,
 "nbformat_minor": 1
}