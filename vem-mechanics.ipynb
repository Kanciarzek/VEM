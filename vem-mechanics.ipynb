{
 "cells": [
  {
   "cell_type": "code",
   "execution_count": 1,
   "metadata": {},
   "outputs": [],
   "source": [
    "import matplotlib.pyplot as plt\n",
    "import numpy as np"
   ]
  },
  {
   "cell_type": "code",
   "execution_count": 2,
   "metadata": {
    "pycharm": {
     "name": "#%%\n"
    }
   },
   "outputs": [],
   "source": [
    "mi = 0.385\n",
    "lambda_ = 0.1\n",
    "\n",
    "mi_prime = 0.385\n",
    "lambda_prime = 0.1\n",
    "\n",
    "size_y = 10\n",
    "size_x = 50\n",
    "\n",
    "bounding_box = np.array([0, 5, 0, 1])"
   ]
  },
  {
   "cell_type": "code",
   "execution_count": 3,
   "outputs": [],
   "source": [
    "def f1(x, y):\n",
    "    x = np.array(x)\n",
    "    y = np.array(y)\n",
    "    result = np.zeros_like(x)\n",
    "    # cond = (0 <= x) & (x <= 5) & (0 <= y) & (y <= 1)\n",
    "    cond = np.ones_like(x) == 1\n",
    "    result[cond] = 0\n",
    "    return result\n",
    "\n",
    "\n",
    "def f2(x, y):\n",
    "    x = np.array(x)\n",
    "    y = np.array(y)\n",
    "    result = np.zeros_like(x)\n",
    "    # cond = (3 <= x) & (x <= 4) & (0 <= y) & (y <= 1)\n",
    "    cond = np.ones_like(x) == 1\n",
    "    result[cond] = 0\n",
    "    return result\n",
    "\n",
    "\n",
    "def fnx(x, y):\n",
    "    x = np.array(x)\n",
    "    y = np.array(y)\n",
    "    result = np.zeros_like(x)\n",
    "    if x == 5:\n",
    "        result = -0.1\n",
    "    return result\n",
    "\n",
    "\n",
    "def fny(x, y):\n",
    "    x = np.array(x)\n",
    "    y = np.array(y)\n",
    "    result = 0\n",
    "    if x == 5:\n",
    "        result = 0\n",
    "    return result\n"
   ],
   "metadata": {
    "collapsed": false,
    "pycharm": {
     "name": "#%%\n"
    }
   }
  },
  {
   "cell_type": "code",
   "execution_count": 4,
   "outputs": [],
   "source": [
    "x = np.linspace(bounding_box[0], bounding_box[1], size_x + 1)\n",
    "y = np.linspace(bounding_box[2], bounding_box[3], size_y + 1)\n",
    "vertices = np.transpose([np.tile(x, len(y)), np.repeat(y, len(x))])"
   ],
   "metadata": {
    "collapsed": false,
    "pycharm": {
     "name": "#%%\n"
    }
   }
  },
  {
   "cell_type": "code",
   "execution_count": 5,
   "outputs": [],
   "source": [
    "vertices = np.array(sorted(vertices, key=lambda x: x[0]))"
   ],
   "metadata": {
    "collapsed": false,
    "pycharm": {
     "name": "#%%\n"
    }
   }
  },
  {
   "cell_type": "code",
   "execution_count": 6,
   "outputs": [],
   "source": [
    "dirichlet_boundary = np.where(vertices[:, 0] == bounding_box[0])[0]\n",
    "neumann_boundary = np.where((vertices[:, 1] == bounding_box[3])\n",
    "                            | (vertices[:, 0] == bounding_box[1]))[0]\n",
    "\n",
    "contact_boundary = np.where((vertices[:, 1] == bounding_box[2]))[0]\n",
    "\n",
    "elements = np.array(\n",
    "    [np.array([i, i + 1, i + 2 + size_y, i + 1 + size_y]) + (j * (size_y + 1)) for i in range(size_y) for j in\n",
    "     range(size_x)])\n",
    "# elements = np.array(\n",
    "#     [np.array([[i, i + 1, i + 1 + size_y], [i + 1 + size_y, i + 1, i + size_y + 2]]) + (j * (size_y + 1)) for i in range(size_y) for j in range(size_x)]).reshape(-1, 3)"
   ],
   "metadata": {
    "collapsed": false,
    "pycharm": {
     "name": "#%%\n"
    }
   }
  },
  {
   "cell_type": "code",
   "execution_count": 7,
   "outputs": [
    {
     "data": {
      "text/plain": "<Figure size 720x144 with 1 Axes>",
      "image/png": "[encoded data removed]"
     },
     "metadata": {
      "needs_background": "light"
     },
     "output_type": "display_data"
    }
   ],
   "source": [
    "fig = plt.figure(figsize=(10, 2))\n",
    "for element in elements:\n",
    "    xx = [vertices[e][0] for e in element]\n",
    "    xx.append(xx[0])\n",
    "    yy = [vertices[e][1] for e in element]\n",
    "    yy.append(yy[0])\n",
    "    plt.plot(xx, yy, c=\"black\", linewidth=0.7)\n",
    "plt.axis('off')\n",
    "plt.show()"
   ],
   "metadata": {
    "collapsed": false,
    "pycharm": {
     "name": "#%%\n"
    }
   }
  },
  {
   "cell_type": "code",
   "execution_count": 8,
   "metadata": {
    "pycharm": {
     "name": "#%%\n"
    }
   },
   "outputs": [],
   "source": [
    "def calculate_stiffness_matrix(vertices, elements, mi, lambda_):\n",
    "    A = np.zeros((len(vertices) * 2, len(vertices) * 2))\n",
    "    for element in elements:\n",
    "        local_vertices = vertices[element]\n",
    "        x = local_vertices[:, 0]\n",
    "        y = local_vertices[:, 1]\n",
    "        n_of_sides = len(element)\n",
    "        range_plus_one = np.array([*range(1, n_of_sides), 0])\n",
    "        area_part = np.array([x[i] * y[j] - x[j] * y[i] for i, j in zip(range(n_of_sides), range_plus_one)])\n",
    "        area = 1 / 2 * np.sum(area_part)\n",
    "        centroid = 1 / (6 * area) * np.sum([(d + d[range_plus_one]) * area_part for d in [x, y]], axis=1)\n",
    "        B_snake_x = np.zeros((6, n_of_sides))\n",
    "        B_snake_y = np.zeros((6, n_of_sides))\n",
    "\n",
    "        B_snake_x[0, :] = 1\n",
    "        B_snake_x[1, :] = 0\n",
    "        B_snake_y[0, :] = 0\n",
    "        B_snake_y[1, :] = 1\n",
    "        for vertex_id in range(n_of_sides):\n",
    "            vertex = local_vertices[vertex_id]\n",
    "            previous_id = vertex_id - 1\n",
    "            previous = local_vertices[previous_id]\n",
    "            next_id = (vertex_id + 1) % n_of_sides\n",
    "            next = local_vertices[next_id]\n",
    "            vertex_hat_normal = -np.array([next[1] - previous[1], previous[0] - next[0]])\n",
    "            B_snake_x[2, vertex_id] = -vertex[1]\n",
    "            B_snake_x[3, vertex_id] = mi * vertex_hat_normal[1]\n",
    "            B_snake_x[4, vertex_id] = mi * vertex_hat_normal[0]\n",
    "            B_snake_x[5, vertex_id] = (mi + lambda_) * vertex_hat_normal[0]\n",
    "            B_snake_y[2, vertex_id] = vertex[0]\n",
    "            B_snake_y[3, vertex_id] = mi * vertex_hat_normal[0]\n",
    "            B_snake_y[4, vertex_id] = -mi * vertex_hat_normal[1]\n",
    "            B_snake_y[5, vertex_id] = (mi + lambda_) * vertex_hat_normal[1]\n",
    "\n",
    "        D = np.zeros((2 * n_of_sides, 6))\n",
    "        for i in range(n_of_sides):\n",
    "            x = local_vertices[i, 0]\n",
    "            y = local_vertices[i, 1]\n",
    "            D[i] = np.array([1, 0, -y + centroid[1], y - centroid[1], x - centroid[0], x - centroid[0]])\n",
    "            D[i + n_of_sides] = np.array([0, 1, x - centroid[0], x - centroid[0], -y + centroid[1], y - centroid[1]])\n",
    "\n",
    "        B_snake = np.hstack([B_snake_x, B_snake_y])\n",
    "        G_snake = B_snake @ D\n",
    "\n",
    "        G = np.zeros((6, 6))\n",
    "        G[3:, 3:] = G_snake[3:, 3:]\n",
    "\n",
    "        projector = np.linalg.solve(G_snake, B_snake)\n",
    "        Al = np.eye(2 * n_of_sides)\n",
    "        part = Al - D @ projector\n",
    "        stabilizing_term = part.T @ part\n",
    "\n",
    "        local_stiffness = projector.T @ G @ projector\n",
    "        local_stiffness_with_stabilizing_term = local_stiffness + stabilizing_term\n",
    "\n",
    "        full_element = np.concatenate([element, element + len(vertices)])\n",
    "        A[np.ix_(full_element, full_element)] += local_stiffness_with_stabilizing_term\n",
    "    return A\n",
    "\n",
    "\n",
    "def calculate_F_j(vertices, elements, fx, fy):\n",
    "    F = np.zeros(len(vertices) * 2)\n",
    "    j = np.zeros(len(vertices) * 2)\n",
    "\n",
    "    for element in elements:\n",
    "        local_vertices = vertices[element]\n",
    "        x = local_vertices[:, 0]\n",
    "        y = local_vertices[:, 1]\n",
    "        n_of_sides = len(element)\n",
    "        range_plus_one = np.array([*range(1, n_of_sides), 0])\n",
    "        area_part = np.array([x[i] * y[j] - x[j] * y[i] for i, j in zip(range(n_of_sides), range_plus_one)])\n",
    "        area = 1 / 2 * np.sum(area_part)\n",
    "        centroid = 1 / (6 * area) * np.sum([(d + d[range_plus_one]) * area_part for d in [x, y]], axis=1)\n",
    "        area = np.abs(area)\n",
    "\n",
    "        for vertex_id in range(n_of_sides):\n",
    "            vertex = local_vertices[vertex_id]\n",
    "            previous_id = vertex_id - 1\n",
    "            previous = local_vertices[previous_id]\n",
    "            next_id = (vertex_id + 1) % n_of_sides\n",
    "            next = local_vertices[next_id]\n",
    "\n",
    "            if np.isin(element[vertex_id], neumann_boundary) and np.isin(element[previous_id], neumann_boundary):\n",
    "                mean_prev_vertex = (vertex[0] + previous[0]) / 2, (vertex[1] + previous[1]) / 2\n",
    "                length = np.linalg.norm(vertex - previous)\n",
    "                F[element[vertex_id]] += (fnx(mean_prev_vertex[0], mean_prev_vertex[1])) * length / 2\n",
    "                F[element[vertex_id] + len(vertices)] += (fny(mean_prev_vertex[0], mean_prev_vertex[1])) * length / 2\n",
    "\n",
    "            if np.isin(element[vertex_id], neumann_boundary) and np.isin(element[next_id], neumann_boundary):\n",
    "                mean_next_vertex = (vertex[0] + next[0]) / 2, (vertex[1] + next[1]) / 2\n",
    "                length = np.linalg.norm(vertex - next)\n",
    "                F[element[vertex_id]] += (fnx(mean_next_vertex[0], mean_next_vertex[1])) * length / 2\n",
    "                F[element[vertex_id] + len(vertices)] += (fny(mean_next_vertex[0], mean_next_vertex[1])) * length / 2\n",
    "\n",
    "            if np.isin(element[vertex_id], contact_boundary) and np.isin(element[previous_id], contact_boundary):\n",
    "                length = np.linalg.norm(vertex - previous)\n",
    "                j[element[vertex_id]] += length / 2\n",
    "\n",
    "            if np.isin(element[vertex_id], contact_boundary) and np.isin(element[next_id], contact_boundary):\n",
    "                length = np.linalg.norm(vertex - next)\n",
    "                j[element[vertex_id]] += length / 2\n",
    "\n",
    "        F[element] += fx(centroid[0], centroid[1]) * area / n_of_sides\n",
    "        F[element + len(vertices)] += fy(centroid[0], centroid[1]) * area / n_of_sides\n",
    "\n",
    "    return F, j"
   ]
  },
  {
   "cell_type": "code",
   "execution_count": 9,
   "outputs": [],
   "source": [
    "internal_vertices = np.tile(~np.isin(np.arange(len(vertices)), dirichlet_boundary), 2)\n",
    "internal_vertices[len(vertices):] = internal_vertices[len(vertices):] & (\n",
    "    ~np.isin(np.arange(len(vertices)), contact_boundary))"
   ],
   "metadata": {
    "collapsed": false,
    "pycharm": {
     "name": "#%%\n"
    }
   }
  },
  {
   "cell_type": "code",
   "execution_count": 10,
   "outputs": [],
   "source": [
    "contact_boundary_v2 = np.concatenate([contact_boundary, contact_boundary + len(vertices)])\n",
    "internal_vertices = np.where(internal_vertices)[0]"
   ],
   "metadata": {
    "collapsed": false,
    "pycharm": {
     "name": "#%%\n"
    }
   }
  },
  {
   "cell_type": "code",
   "execution_count": 11,
   "outputs": [],
   "source": [
    "A = calculate_stiffness_matrix(vertices, elements, mi, lambda_)\n",
    "B = calculate_stiffness_matrix(vertices, elements, mi_prime, lambda_prime)\n",
    "F, j = calculate_F_j(vertices, elements, f1, f2)"
   ],
   "metadata": {
    "collapsed": false,
    "pycharm": {
     "name": "#%%\n"
    }
   }
  },
  {
   "cell_type": "code",
   "execution_count": 12,
   "outputs": [],
   "source": [
    "u = np.zeros(len(vertices) * 2)\n",
    "dt = 0.1\n",
    "ut = [np.zeros_like(u)]"
   ],
   "metadata": {
    "collapsed": false,
    "pycharm": {
     "name": "#%%\n"
    }
   }
  },
  {
   "cell_type": "code",
   "execution_count": 75,
   "outputs": [],
   "source": [
    "# Ai = A[np.ix_(internal_vertices, internal_vertices)]\n",
    "# Bi = B[np.ix_(internal_vertices, internal_vertices)]\n",
    "# Fi = F[internal_vertices]\n",
    "contact_internal_boundary = np.intersect1d(internal_vertices, contact_boundary_v2)\n",
    "non_contact_internal_boundary = np.setdiff1d(internal_vertices, contact_internal_boundary)\n",
    "At = A * dt + B\n",
    "Acc = At[np.ix_(contact_internal_boundary, contact_internal_boundary)]\n",
    "Acn = At[np.ix_(contact_internal_boundary, non_contact_internal_boundary)]\n",
    "Anc = At[np.ix_(non_contact_internal_boundary, contact_internal_boundary)]\n",
    "Ann = At[np.ix_(non_contact_internal_boundary, non_contact_internal_boundary)]\n",
    "\n",
    "Ann_inv = np.linalg.inv(Ann)\n",
    "\n",
    "A_snake = Acc - Acn @ Ann_inv @ Anc\n",
    "\n",
    "Fc = F[contact_internal_boundary]\n",
    "Fn = F[non_contact_internal_boundary]\n",
    "F_snake = Acn @ Ann_inv @ Fn - Fc\n",
    "\n",
    "Ann_inv_v2 = np.zeros_like(A)\n",
    "Ann_inv_v2[np.ix_(non_contact_internal_boundary, non_contact_internal_boundary)] = Ann_inv\n",
    "Ann_inv_v2[np.ix_(contact_internal_boundary, contact_internal_boundary)] = np.eye(len(contact_internal_boundary))\n",
    "\n",
    "Fn_v2 = np.zeros_like(F)\n",
    "Fn_v2[non_contact_internal_boundary] = Fn\n",
    "\n",
    "Anc_v2 = np.zeros((A.shape[0], len(contact_internal_boundary)))\n",
    "Anc_v2[np.ix_(contact_internal_boundary, range(len(contact_internal_boundary)))] = -np.eye(len(contact_internal_boundary))\n",
    "Anc_v2[np.ix_(non_contact_internal_boundary, range(len(contact_internal_boundary)))] = Anc"
   ],
   "metadata": {
    "collapsed": false,
    "pycharm": {
     "name": "#%%\n"
    }
   }
  },
  {
   "cell_type": "code",
   "execution_count": 76,
   "outputs": [],
   "source": [
    "a = 0.5\n",
    "\n",
    "\n",
    "def subdiff_function(v_tau):\n",
    "    return np.exp(-np.abs(v_tau)) * (a - 1) + np.abs(v_tau) * a\n",
    "\n",
    "\n",
    "def integral(v):\n",
    "    result = 0.05 * np.sum(subdiff_function(v) * j[contact_internal_boundary])\n",
    "    return result\n",
    "\n",
    "\n",
    "def Jt_snake(u_prime, u_old_full):\n",
    "    result = 1 / 2 * u_prime @ A_snake @ u_prime + integral(u_prime) + F_snake @ u_prime - u_old_full @ B @ Ann_inv_v2 @ (Fn_v2 - Anc_v2 @ u_prime)\n",
    "    return result"
   ],
   "metadata": {
    "collapsed": false,
    "pycharm": {
     "name": "#%%\n"
    }
   }
  },
  {
   "cell_type": "code",
   "execution_count": 78,
   "outputs": [
    {
     "name": "stdout",
     "output_type": "stream",
     "text": [
      "Optimization terminated successfully.\n",
      "         Current function value: -0.124262\n",
      "         Iterations: 7\n",
      "         Function evaluations: 9900\n",
      "Optimization terminated successfully.\n",
      "         Current function value: -0.125274\n",
      "         Iterations: 7\n",
      "         Function evaluations: 9535\n",
      "Optimization terminated successfully.\n",
      "         Current function value: -0.126310\n",
      "         Iterations: 7\n",
      "         Function evaluations: 9469\n",
      "Optimization terminated successfully.\n",
      "         Current function value: -0.127365\n",
      "         Iterations: 7\n",
      "         Function evaluations: 9360\n",
      "Optimization terminated successfully.\n",
      "         Current function value: -0.128448\n",
      "         Iterations: 7\n",
      "         Function evaluations: 9330\n",
      "Optimization terminated successfully.\n",
      "         Current function value: -0.129564\n",
      "         Iterations: 7\n",
      "         Function evaluations: 9294\n",
      "Optimization terminated successfully.\n",
      "         Current function value: -0.130722\n",
      "         Iterations: 7\n",
      "         Function evaluations: 9289\n",
      "Optimization terminated successfully.\n",
      "         Current function value: -0.131926\n",
      "         Iterations: 7\n",
      "         Function evaluations: 9259\n",
      "Optimization terminated successfully.\n",
      "         Current function value: -0.133188\n",
      "         Iterations: 7\n",
      "         Function evaluations: 9261\n",
      "Optimization terminated successfully.\n",
      "         Current function value: -0.134518\n",
      "         Iterations: 7\n",
      "         Function evaluations: 9238\n",
      "Optimization terminated successfully.\n",
      "         Current function value: -0.135932\n",
      "         Iterations: 7\n",
      "         Function evaluations: 9228\n",
      "Optimization terminated successfully.\n",
      "         Current function value: -0.137443\n",
      "         Iterations: 7\n",
      "         Function evaluations: 9209\n",
      "Optimization terminated successfully.\n",
      "         Current function value: -0.139070\n",
      "         Iterations: 7\n",
      "         Function evaluations: 9208\n",
      "Optimization terminated successfully.\n",
      "         Current function value: -0.140838\n",
      "         Iterations: 7\n",
      "         Function evaluations: 9231\n",
      "Optimization terminated successfully.\n",
      "         Current function value: -0.142759\n",
      "         Iterations: 6\n",
      "         Function evaluations: 7896\n",
      "Optimization terminated successfully.\n",
      "         Current function value: -0.144887\n",
      "         Iterations: 6\n",
      "         Function evaluations: 7893\n",
      "Optimization terminated successfully.\n",
      "         Current function value: -0.147251\n",
      "         Iterations: 6\n",
      "         Function evaluations: 7883\n",
      "Optimization terminated successfully.\n",
      "         Current function value: -0.149905\n",
      "         Iterations: 6\n",
      "         Function evaluations: 7903\n",
      "Optimization terminated successfully.\n",
      "         Current function value: -0.152903\n",
      "         Iterations: 6\n",
      "         Function evaluations: 7917\n",
      "Optimization terminated successfully.\n",
      "         Current function value: -0.156314\n",
      "         Iterations: 6\n",
      "         Function evaluations: 7873\n",
      "Optimization terminated successfully.\n",
      "         Current function value: -0.160218\n",
      "         Iterations: 6\n",
      "         Function evaluations: 7779\n",
      "Optimization terminated successfully.\n",
      "         Current function value: -0.164681\n",
      "         Iterations: 5\n",
      "         Function evaluations: 6480\n",
      "Optimization terminated successfully.\n",
      "         Current function value: -0.169820\n",
      "         Iterations: 5\n",
      "         Function evaluations: 6478\n",
      "Optimization terminated successfully.\n",
      "         Current function value: -0.175788\n",
      "         Iterations: 5\n",
      "         Function evaluations: 6474\n",
      "Optimization terminated successfully.\n",
      "         Current function value: -0.182749\n",
      "         Iterations: 5\n",
      "         Function evaluations: 6479\n",
      "Optimization terminated successfully.\n",
      "         Current function value: -0.190882\n",
      "         Iterations: 4\n",
      "         Function evaluations: 5202\n",
      "Optimization terminated successfully.\n",
      "         Current function value: -0.200319\n",
      "         Iterations: 1\n",
      "         Function evaluations: 1284\n",
      "Optimization terminated successfully.\n",
      "         Current function value: -0.211239\n",
      "         Iterations: 1\n",
      "         Function evaluations: 1295\n",
      "Optimization terminated successfully.\n",
      "         Current function value: -0.224131\n",
      "         Iterations: 1\n",
      "         Function evaluations: 1295\n",
      "Optimization terminated successfully.\n",
      "         Current function value: -0.239392\n",
      "         Iterations: 1\n",
      "         Function evaluations: 1302\n",
      "Optimization terminated successfully.\n",
      "         Current function value: -0.257499\n",
      "         Iterations: 1\n",
      "         Function evaluations: 1297\n",
      "Optimization terminated successfully.\n",
      "         Current function value: -0.279025\n",
      "         Iterations: 1\n",
      "         Function evaluations: 1307\n",
      "Optimization terminated successfully.\n",
      "         Current function value: -0.304685\n",
      "         Iterations: 2\n",
      "         Function evaluations: 2603\n",
      "Optimization terminated successfully.\n",
      "         Current function value: -0.335229\n",
      "         Iterations: 3\n",
      "         Function evaluations: 3905\n",
      "Optimization terminated successfully.\n",
      "         Current function value: -0.371365\n",
      "         Iterations: 3\n",
      "         Function evaluations: 3857\n",
      "Optimization terminated successfully.\n",
      "         Current function value: -0.414394\n",
      "         Iterations: 3\n",
      "         Function evaluations: 3821\n",
      "Optimization terminated successfully.\n",
      "         Current function value: -0.465829\n",
      "         Iterations: 4\n",
      "         Function evaluations: 5047\n",
      "Optimization terminated successfully.\n",
      "         Current function value: -0.526910\n",
      "         Iterations: 4\n",
      "         Function evaluations: 4992\n",
      "Optimization terminated successfully.\n",
      "         Current function value: -0.599735\n",
      "         Iterations: 4\n",
      "         Function evaluations: 4976\n",
      "Optimization terminated successfully.\n",
      "         Current function value: -0.686586\n",
      "         Iterations: 4\n",
      "         Function evaluations: 4944\n"
     ]
    }
   ],
   "source": [
    "import scipy.optimize\n",
    "\n",
    "ut = [np.zeros_like(u)]\n",
    "for _ in range(40):\n",
    "    res = scipy.optimize.minimize(Jt_snake, ut[-1][contact_internal_boundary], method='Powell',\n",
    "                                  args=ut[-1], options={\"disp\": True})\n",
    "    v = np.zeros_like(u)\n",
    "    v[contact_internal_boundary] = ut[-1][contact_internal_boundary] + (res.x * dt)\n",
    "    v[non_contact_internal_boundary] = ut[-1][non_contact_internal_boundary] + (\n",
    "            np.linalg.solve(Ann, Fn - Anc @ res.x) * dt)\n",
    "    ut.append(v)"
   ],
   "metadata": {
    "collapsed": false,
    "pycharm": {
     "name": "#%%\n"
    }
   }
  },
  {
   "cell_type": "markdown",
   "source": [],
   "metadata": {
    "collapsed": false
   }
  },
  {
   "cell_type": "code",
   "execution_count": 79,
   "outputs": [],
   "source": [
    "u = ut[-1]"
   ],
   "metadata": {
    "collapsed": false,
    "pycharm": {
     "name": "#%%\n"
    }
   }
  },
  {
   "cell_type": "code",
   "execution_count": 80,
   "metadata": {
    "pycharm": {
     "name": "#%%\n"
    }
   },
   "outputs": [
    {
     "name": "stderr",
     "output_type": "stream",
     "text": [
      "C:\\ProgramData\\Miniconda3\\envs\\nrrrc\\lib\\site-packages\\scipy\\interpolate\\_fitpack_impl.py:976: RuntimeWarning: No more knots can be added because the number of B-spline\n",
      "coefficients already exceeds the number of data points m.\n",
      "Probable causes: either s or m too small. (fp>s)\n",
      "\tkx,ky=1,1 nx,ny=42,17 m=561 fp=0.000001 s=0.000000\n",
      "  warnings.warn(RuntimeWarning(_iermess2[ierm][0] + _mess))\n",
      "C:\\ProgramData\\Miniconda3\\envs\\nrrrc\\lib\\site-packages\\scipy\\interpolate\\_fitpack_impl.py:976: RuntimeWarning: No more knots can be added because the number of B-spline\n",
      "coefficients already exceeds the number of data points m.\n",
      "Probable causes: either s or m too small. (fp>s)\n",
      "\tkx,ky=1,1 nx,ny=42,17 m=561 fp=0.000000 s=0.000000\n",
      "  warnings.warn(RuntimeWarning(_iermess2[ierm][0] + _mess))\n"
     ]
    },
    {
     "data": {
      "text/plain": "<BarContainer object of 51 artists>"
     },
     "execution_count": 80,
     "metadata": {},
     "output_type": "execute_result"
    },
    {
     "data": {
      "text/plain": "<Figure size 1440x576 with 2 Axes>",
      "image/png": "[encoded data removed]"
     },
     "metadata": {
      "needs_background": "light"
     },
     "output_type": "display_data"
    }
   ],
   "source": [
    "import scipy.interpolate\n",
    "\n",
    "fig, axs = plt.subplots(2, figsize=(20, 8))\n",
    "dx = 0.1\n",
    "dy = 0.1\n",
    "x = vertices[:, 0].copy()\n",
    "y = vertices[:, 1].copy()\n",
    "u_x = u[:len(vertices)].copy()\n",
    "u_y = u[len(vertices):].copy()\n",
    "u_fun_x = scipy.interpolate.interp2d(x, y, u_x, kind='linear')\n",
    "u_fun_y = scipy.interpolate.interp2d(x, y, u_y, kind='linear')\n",
    "xi, yi = np.arange(0, 5 + dx, dx), np.arange(0, 1 + dy, dy)\n",
    "u_xi = u_fun_x(xi, yi)\n",
    "u_yi = u_fun_y(xi, yi)\n",
    "grad = np.array([np.gradient(u_xi, dx, dy), np.gradient(u_yi, dx, dy)]).reshape((2, 2, -1))\n",
    "epsilon = (grad + np.transpose(grad, axes=(1, 0, 2))) / 2\n",
    "stress = lambda_ * np.trace(epsilon) * np.repeat(np.eye(2)[:, :, np.newaxis], grad.shape[2], axis=2) + 2 * mi * epsilon\n",
    "c = np.linalg.norm(stress, axis=(0, 1))\n",
    "xxi, yyi = np.meshgrid(xi, yi)\n",
    "xxi += u_xi\n",
    "yyi += u_yi\n",
    "axs[0].set_title(\"Body deformation\")\n",
    "axs[0].set_xlim(-0.5, 5.5)\n",
    "axs[0].scatter(xxi, yyi, marker='.', cmap='Greens', c=c.reshape(*xxi.shape))\n",
    "axs[1].set_title(\"Tangential stress at contact boundary\")\n",
    "axs[1].set_xlim(-0.5, 5.5)\n",
    "axs[1].set_ylim(-0.1, 0.1)\n",
    "axs[1].bar(np.linspace(0, 5, len(stress[1, 0, vertices[:, 1] == 0])), stress.reshape(2, 2, *xxi.shape)[1, 0, 0], width=0.05)"
   ]
  },
  {
   "cell_type": "code",
   "execution_count": 81,
   "outputs": [
    {
     "data": {
      "text/plain": "<Figure size 1440x576 with 2 Axes>",
      "image/png": "[encoded data removed]"
     },
     "metadata": {
      "needs_background": "light"
     },
     "output_type": "display_data"
    }
   ],
   "source": [
    "from matplotlib.animation import FuncAnimation\n",
    "\n",
    "fig, axs = plt.subplots(2, figsize=(20, 8))\n",
    "\n",
    "\n",
    "def animation(i):\n",
    "    axs[0].clear()\n",
    "    axs[1].clear()\n",
    "    dx = 0.1\n",
    "    dy = 0.1\n",
    "    x = vertices[:, 0].copy()\n",
    "    y = vertices[:, 1].copy()\n",
    "    u_x = ut[i][:len(vertices)].copy()\n",
    "    u_y = ut[i][len(vertices):].copy()\n",
    "    u_fun_x = scipy.interpolate.interp2d(x, y, u_x, kind='linear')\n",
    "    u_fun_y = scipy.interpolate.interp2d(x, y, u_y, kind='linear')\n",
    "    xi, yi = np.arange(0, 5 + dx, dx), np.arange(0, 1 + dy, dy)\n",
    "    u_xi = u_fun_x(xi, yi)\n",
    "    u_yi = u_fun_y(xi, yi)\n",
    "    grad = np.array([np.gradient(u_xi, dx, dy), np.gradient(u_yi, dx, dy)]).reshape(2, 2, -1)\n",
    "    epsilon = (grad + np.transpose(grad, axes=(1, 0, 2))) / 2\n",
    "    stress = lambda_ * np.trace(epsilon) * np.repeat(np.eye(2)[:, :, np.newaxis], grad.shape[2],\n",
    "                                                     axis=2) + 2 * mi * epsilon\n",
    "    c = np.linalg.norm(stress, axis=(0, 1))\n",
    "    xxi, yyi = np.meshgrid(xi, yi)\n",
    "    xxi += u_xi\n",
    "    yyi += u_yi\n",
    "    axs[0].set_title(\"Body deformation\")\n",
    "    axs[0].set_xlim(-0.5, 5.5)\n",
    "    axs[0].set_ylim(-0.1, 1.1)\n",
    "    axs[0].scatter(xxi, yyi, marker='.', cmap='cool', c=c.reshape(*xxi.shape))\n",
    "    axs[1].set_title(\"Tangential stress at contact boundary\")\n",
    "    axs[1].set_xlim(-0.5, 5.5)\n",
    "    axs[1].set_ylim(-0.15, 0.15)\n",
    "    axs[1].bar(np.linspace(0, 5, xxi.shape[1]), stress.reshape(2, 2, *xxi.shape)[1, 0, 0], width=0.05)\n",
    "\n",
    "\n",
    "ani = FuncAnimation(fig, animation, frames=40, interval=50, repeat=False)\n",
    "\n",
    "animation(0)"
   ],
   "metadata": {
    "collapsed": false,
    "pycharm": {
     "name": "#%%\n"
    }
   }
  },
  {
   "cell_type": "code",
   "execution_count": 82,
   "outputs": [
    {
     "name": "stderr",
     "output_type": "stream",
     "text": [
      "C:\\ProgramData\\Miniconda3\\envs\\nrrrc\\lib\\site-packages\\scipy\\interpolate\\_fitpack_impl.py:976: RuntimeWarning: No more knots can be added because the number of B-spline\n",
      "coefficients already exceeds the number of data points m.\n",
      "Probable causes: either s or m too small. (fp>s)\n",
      "\tkx,ky=1,1 nx,ny=42,17 m=561 fp=0.000000 s=0.000000\n",
      "  warnings.warn(RuntimeWarning(_iermess2[ierm][0] + _mess))\n",
      "C:\\ProgramData\\Miniconda3\\envs\\nrrrc\\lib\\site-packages\\scipy\\interpolate\\_fitpack_impl.py:976: RuntimeWarning: No more knots can be added because the number of B-spline\n",
      "coefficients already exceeds the number of data points m.\n",
      "Probable causes: either s or m too small. (fp>s)\n",
      "\tkx,ky=1,1 nx,ny=38,18 m=561 fp=0.000000 s=0.000000\n",
      "  warnings.warn(RuntimeWarning(_iermess2[ierm][0] + _mess))\n",
      "C:\\ProgramData\\Miniconda3\\envs\\nrrrc\\lib\\site-packages\\scipy\\interpolate\\_fitpack_impl.py:976: RuntimeWarning: No more knots can be added because the number of B-spline\n",
      "coefficients already exceeds the number of data points m.\n",
      "Probable causes: either s or m too small. (fp>s)\n",
      "\tkx,ky=1,1 nx,ny=40,17 m=561 fp=0.000000 s=0.000000\n",
      "  warnings.warn(RuntimeWarning(_iermess2[ierm][0] + _mess))\n",
      "C:\\ProgramData\\Miniconda3\\envs\\nrrrc\\lib\\site-packages\\scipy\\interpolate\\_fitpack_impl.py:976: RuntimeWarning: No more knots can be added because the number of B-spline\n",
      "coefficients already exceeds the number of data points m.\n",
      "Probable causes: either s or m too small. (fp>s)\n",
      "\tkx,ky=1,1 nx,ny=40,17 m=561 fp=0.000001 s=0.000000\n",
      "  warnings.warn(RuntimeWarning(_iermess2[ierm][0] + _mess))\n",
      "C:\\ProgramData\\Miniconda3\\envs\\nrrrc\\lib\\site-packages\\scipy\\interpolate\\_fitpack_impl.py:976: RuntimeWarning: No more knots can be added because the number of B-spline\n",
      "coefficients already exceeds the number of data points m.\n",
      "Probable causes: either s or m too small. (fp>s)\n",
      "\tkx,ky=1,1 nx,ny=42,17 m=561 fp=0.000001 s=0.000000\n",
      "  warnings.warn(RuntimeWarning(_iermess2[ierm][0] + _mess))\n"
     ]
    }
   ],
   "source": [
    "from matplotlib.animation import ImageMagickWriter\n",
    "\n",
    "ani.save('animation102.gif', writer=ImageMagickWriter(fps=10))"
   ],
   "metadata": {
    "collapsed": false,
    "pycharm": {
     "name": "#%%\n"
    }
   }
  },
  {
   "cell_type": "markdown",
   "source": [],
   "metadata": {
    "collapsed": false,
    "pycharm": {
     "name": "#%% md\n"
    }
   }
  }
 ],
 "metadata": {
  "kernelspec": {
   "display_name": "Python 3",
   "language": "python",
   "name": "python3"
  },
  "language_info": {
   "codemirror_mode": {
    "name": "ipython",
    "version": 3
   },
   "file_extension": ".py",
   "mimetype": "text/x-python",
   "name": "python",
   "nbconvert_exporter": "python",
   "pygments_lexer": "ipython3",
   "version": "3.7.5"
  }
 },
 "nbformat": 4,
 "nbformat_minor": 1
}