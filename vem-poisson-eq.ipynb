{
 "cells": [
  {
   "cell_type": "code",
   "execution_count": 1,
   "metadata": {},
   "outputs": [],
   "source": [
    "from scipy.io import loadmat\n",
    "import numpy as np"
   ]
  },
  {
   "cell_type": "code",
   "execution_count": 85,
   "metadata": {
    "pycharm": {
     "name": "#%%\n"
    }
   },
   "outputs": [],
   "source": [
    "mesh = loadmat(\"meshes/non-convex.mat\")"
   ]
  },
  {
   "cell_type": "code",
   "execution_count": 86,
   "metadata": {
    "pycharm": {
     "name": "#%%\n"
    }
   },
   "outputs": [],
   "source": [
    "def f(x, y):\n",
    "    return 15 * np.sin(np.pi*x) * np.sin(np.pi*y)\n",
    "\n",
    "def g(x, y):\n",
    "    return (1-x) * y * np.sin(np.pi*x)"
   ]
  },
  {
   "cell_type": "code",
   "execution_count": 87,
   "metadata": {
    "pycharm": {
     "name": "#%%\n"
    }
   },
   "outputs": [],
   "source": [
    "boundary = mesh['boundary'].flatten() - 1\n",
    "elements = np.array([list(y.flatten() - 1 for y in x) for x in mesh['elements']]).squeeze()\n",
    "vertices = mesh['vertices']"
   ]
  },
  {
   "cell_type": "code",
   "execution_count": 82,
   "outputs": [],
   "source": [
    "import matplotlib.pyplot as plt\n",
    "fig = plt.figure()\n",
    "for element in elements:\n",
    "    x = [vertices[x][0] for x in element]\n",
    "    x.append(x[0])\n",
    "    y = [vertices[x][1] for x in element]\n",
    "    y.append(y[0])\n",
    "    plt.plot(x,y, c=\"black\", linewidth=0.7)\n",
    "plt.axis('off')\n",
    "plt.savefig('mesh.png')"
   ],
   "metadata": {
    "collapsed": false,
    "pycharm": {
     "name": "#%%\n"
    }
   }
  },
  {
   "cell_type": "code",
   "execution_count": 88,
   "metadata": {
    "pycharm": {
     "name": "#%%\n"
    }
   },
   "outputs": [],
   "source": [
    "A = np.zeros((len(vertices), len(vertices)))\n",
    "F = np.zeros(len(vertices))\n",
    "u = np.zeros(len(vertices))\n",
    "poly_grads = np.array([[0,0],[1,0],[0,1]])\n",
    "for element in elements:\n",
    "    local_vertices = vertices[element]\n",
    "    x = local_vertices[:, 0]\n",
    "    y = local_vertices[:, 1]\n",
    "    n_of_sides = len(element)\n",
    "    range_plus_one = np.array([*range(1,n_of_sides),0])\n",
    "    area_part = np.array([x[i]*y[j] - x[j]*y[i] for i, j in zip(range(n_of_sides), range_plus_one)])\n",
    "    area = np.abs(1/2 * np.sum(area_part))\n",
    "    centroid = 1/(6*area) * np.sum([(d + d[range_plus_one]) * area_part for d in [x,y]], axis=1)\n",
    "    diameter = np.max([np.linalg.norm(local_vertices[i] - local_vertices[j]) for i in range(n_of_sides) for j in range(i+1,n_of_sides)])\n",
    "    D = np.zeros((n_of_sides, len(poly_grads)))\n",
    "    D[:,0] = 1\n",
    "    B_snake = np.zeros((len(poly_grads),n_of_sides))\n",
    "    B_snake[0,:] = 1/n_of_sides\n",
    "    for vertex_id in range(n_of_sides):\n",
    "        vert = local_vertices[vertex_id]\n",
    "        previous = local_vertices[vertex_id-1]\n",
    "        next = local_vertices[(vertex_id+1) % n_of_sides]\n",
    "        vertex_normal = np.array([next[1] - previous[1], previous[0] - next[0]])\n",
    "        for i, poly_grad in zip(range(1, len(poly_grads)), poly_grads[1:]):\n",
    "            B_snake[i, vertex_id] = np.dot(vertex_normal, poly_grad) / (2 * diameter)\n",
    "            D[vertex_id, i] = np.dot(vert - centroid, poly_grad) / diameter\n",
    "    projector = np.linalg.solve(B_snake @ D, B_snake)\n",
    "    G = B_snake @ D\n",
    "    G[0,:] = 0\n",
    "    part = np.eye(n_of_sides) - D @ projector\n",
    "    stabilizing_term = part.T @ part\n",
    "    local_stiffness = ((projector.T @ G) @ projector) + stabilizing_term\n",
    "    A[np.ix_(element,element)] += local_stiffness\n",
    "    F[element] = F[element] + f(centroid[0], centroid[1]) * area / n_of_sides\n",
    "boundary_vals = g(vertices[boundary][:,0],vertices[boundary][:,1])\n",
    "internal_vertices = ~np.isin(np.arange(len(vertices)), boundary)\n",
    "u[internal_vertices] = np.linalg.solve(A[np.ix_(internal_vertices, internal_vertices)], F[internal_vertices] - A[np.ix_(np.where(internal_vertices)[0],np.where(~internal_vertices)[0])] @ boundary_vals)\n",
    "u[~internal_vertices] = boundary_vals"
   ]
  },
  {
   "cell_type": "code",
   "execution_count": 89,
   "metadata": {
    "pycharm": {
     "name": "#%%\n"
    }
   },
   "outputs": [
    {
     "data": {
      "text/plain": "<mpl_toolkits.mplot3d.art3d.Poly3DCollection at 0x20693096dc8>"
     },
     "execution_count": 89,
     "metadata": {},
     "output_type": "execute_result"
    }
   ],
   "source": [
    "import matplotlib.pyplot as plt\n",
    "from mpl_toolkits import mplot3d\n",
    "x = vertices[:, 0]\n",
    "y = vertices[:, 1]\n",
    "z = u\n",
    "\n",
    "plt.figure()\n",
    "ax = plt.axes(projection=\"3d\")\n",
    "\n",
    "for element in elements:\n",
    "    x_e = [vertices[v][0] for v in element]\n",
    "    x_e.append(x_e[0])\n",
    "    y_e = [vertices[v][1] for v in element]\n",
    "    y_e.append(y_e[0])\n",
    "    z_e = np.append(u[element],u[element[0]])\n",
    "    plt.plot(x_e,y_e,z_e, c=\"black\", linewidth=0.7)\n",
    "ax.plot_trisurf(x, y, z, alpha=0.8, edgecolor=\"none\")\n",
    "plt.savefig('result.png')"
   ]
  },
  {
   "cell_type": "code",
   "execution_count": null,
   "outputs": [],
   "source": [],
   "metadata": {
    "collapsed": false,
    "pycharm": {
     "name": "#%%\n"
    }
   }
  }
 ],
 "metadata": {
  "kernelspec": {
   "display_name": "Python 3",
   "language": "python",
   "name": "python3"
  },
  "language_info": {
   "codemirror_mode": {
    "name": "ipython",
    "version": 3
   },
   "file_extension": ".py",
   "mimetype": "text/x-python",
   "name": "python",
   "nbconvert_exporter": "python",
   "pygments_lexer": "ipython3",
   "version": "3.7.5"
  }
 },
 "nbformat": 4,
 "nbformat_minor": 1
}